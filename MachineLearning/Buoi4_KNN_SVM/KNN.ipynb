{
  "nbformat": 4,
  "nbformat_minor": 0,
  "metadata": {
    "colab": {
      "name": "Untitled16.ipynb",
      "provenance": [],
      "collapsed_sections": []
    },
    "kernelspec": {
      "name": "python3",
      "display_name": "Python 3"
    },
    "language_info": {
      "name": "python"
    }
  },
  "cells": [
    {
      "cell_type": "code",
      "execution_count": null,
      "metadata": {
        "colab": {
          "resources": {
            "http://localhost:8080/nbextensions/google.colab/files.js": {
              "data": "Ly8gQ29weXJpZ2h0IDIwMTcgR29vZ2xlIExMQwovLwovLyBMaWNlbnNlZCB1bmRlciB0aGUgQXBhY2hlIExpY2Vuc2UsIFZlcnNpb24gMi4wICh0aGUgIkxpY2Vuc2UiKTsKLy8geW91IG1heSBub3QgdXNlIHRoaXMgZmlsZSBleGNlcHQgaW4gY29tcGxpYW5jZSB3aXRoIHRoZSBMaWNlbnNlLgovLyBZb3UgbWF5IG9idGFpbiBhIGNvcHkgb2YgdGhlIExpY2Vuc2UgYXQKLy8KLy8gICAgICBodHRwOi8vd3d3LmFwYWNoZS5vcmcvbGljZW5zZXMvTElDRU5TRS0yLjAKLy8KLy8gVW5sZXNzIHJlcXVpcmVkIGJ5IGFwcGxpY2FibGUgbGF3IG9yIGFncmVlZCB0byBpbiB3cml0aW5nLCBzb2Z0d2FyZQovLyBkaXN0cmlidXRlZCB1bmRlciB0aGUgTGljZW5zZSBpcyBkaXN0cmlidXRlZCBvbiBhbiAiQVMgSVMiIEJBU0lTLAovLyBXSVRIT1VUIFdBUlJBTlRJRVMgT1IgQ09ORElUSU9OUyBPRiBBTlkgS0lORCwgZWl0aGVyIGV4cHJlc3Mgb3IgaW1wbGllZC4KLy8gU2VlIHRoZSBMaWNlbnNlIGZvciB0aGUgc3BlY2lmaWMgbGFuZ3VhZ2UgZ292ZXJuaW5nIHBlcm1pc3Npb25zIGFuZAovLyBsaW1pdGF0aW9ucyB1bmRlciB0aGUgTGljZW5zZS4KCi8qKgogKiBAZmlsZW92ZXJ2aWV3IEhlbHBlcnMgZm9yIGdvb2dsZS5jb2xhYiBQeXRob24gbW9kdWxlLgogKi8KKGZ1bmN0aW9uKHNjb3BlKSB7CmZ1bmN0aW9uIHNwYW4odGV4dCwgc3R5bGVBdHRyaWJ1dGVzID0ge30pIHsKICBjb25zdCBlbGVtZW50ID0gZG9jdW1lbnQuY3JlYXRlRWxlbWVudCgnc3BhbicpOwogIGVsZW1lbnQudGV4dENvbnRlbnQgPSB0ZXh0OwogIGZvciAoY29uc3Qga2V5IG9mIE9iamVjdC5rZXlzKHN0eWxlQXR0cmlidXRlcykpIHsKICAgIGVsZW1lbnQuc3R5bGVba2V5XSA9IHN0eWxlQXR0cmlidXRlc1trZXldOwogIH0KICByZXR1cm4gZWxlbWVudDsKfQoKLy8gTWF4IG51bWJlciBvZiBieXRlcyB3aGljaCB3aWxsIGJlIHVwbG9hZGVkIGF0IGEgdGltZS4KY29uc3QgTUFYX1BBWUxPQURfU0laRSA9IDEwMCAqIDEwMjQ7CgpmdW5jdGlvbiBfdXBsb2FkRmlsZXMoaW5wdXRJZCwgb3V0cHV0SWQpIHsKICBjb25zdCBzdGVwcyA9IHVwbG9hZEZpbGVzU3RlcChpbnB1dElkLCBvdXRwdXRJZCk7CiAgY29uc3Qgb3V0cHV0RWxlbWVudCA9IGRvY3VtZW50LmdldEVsZW1lbnRCeUlkKG91dHB1dElkKTsKICAvLyBDYWNoZSBzdGVwcyBvbiB0aGUgb3V0cHV0RWxlbWVudCB0byBtYWtlIGl0IGF2YWlsYWJsZSBmb3IgdGhlIG5leHQgY2FsbAogIC8vIHRvIHVwbG9hZEZpbGVzQ29udGludWUgZnJvbSBQeXRob24uCiAgb3V0cHV0RWxlbWVudC5zdGVwcyA9IHN0ZXBzOwoKICByZXR1cm4gX3VwbG9hZEZpbGVzQ29udGludWUob3V0cHV0SWQpOwp9CgovLyBUaGlzIGlzIHJvdWdobHkgYW4gYXN5bmMgZ2VuZXJhdG9yIChub3Qgc3VwcG9ydGVkIGluIHRoZSBicm93c2VyIHlldCksCi8vIHdoZXJlIHRoZXJlIGFyZSBtdWx0aXBsZSBhc3luY2hyb25vdXMgc3RlcHMgYW5kIHRoZSBQeXRob24gc2lkZSBpcyBnb2luZwovLyB0byBwb2xsIGZvciBjb21wbGV0aW9uIG9mIGVhY2ggc3RlcC4KLy8gVGhpcyB1c2VzIGEgUHJvbWlzZSB0byBibG9jayB0aGUgcHl0aG9uIHNpZGUgb24gY29tcGxldGlvbiBvZiBlYWNoIHN0ZXAsCi8vIHRoZW4gcGFzc2VzIHRoZSByZXN1bHQgb2YgdGhlIHByZXZpb3VzIHN0ZXAgYXMgdGhlIGlucHV0IHRvIHRoZSBuZXh0IHN0ZXAuCmZ1bmN0aW9uIF91cGxvYWRGaWxlc0NvbnRpbnVlKG91dHB1dElkKSB7CiAgY29uc3Qgb3V0cHV0RWxlbWVudCA9IGRvY3VtZW50LmdldEVsZW1lbnRCeUlkKG91dHB1dElkKTsKICBjb25zdCBzdGVwcyA9IG91dHB1dEVsZW1lbnQuc3RlcHM7CgogIGNvbnN0IG5leHQgPSBzdGVwcy5uZXh0KG91dHB1dEVsZW1lbnQubGFzdFByb21pc2VWYWx1ZSk7CiAgcmV0dXJuIFByb21pc2UucmVzb2x2ZShuZXh0LnZhbHVlLnByb21pc2UpLnRoZW4oKHZhbHVlKSA9PiB7CiAgICAvLyBDYWNoZSB0aGUgbGFzdCBwcm9taXNlIHZhbHVlIHRvIG1ha2UgaXQgYXZhaWxhYmxlIHRvIHRoZSBuZXh0CiAgICAvLyBzdGVwIG9mIHRoZSBnZW5lcmF0b3IuCiAgICBvdXRwdXRFbGVtZW50Lmxhc3RQcm9taXNlVmFsdWUgPSB2YWx1ZTsKICAgIHJldHVybiBuZXh0LnZhbHVlLnJlc3BvbnNlOwogIH0pOwp9CgovKioKICogR2VuZXJhdG9yIGZ1bmN0aW9uIHdoaWNoIGlzIGNhbGxlZCBiZXR3ZWVuIGVhY2ggYXN5bmMgc3RlcCBvZiB0aGUgdXBsb2FkCiAqIHByb2Nlc3MuCiAqIEBwYXJhbSB7c3RyaW5nfSBpbnB1dElkIEVsZW1lbnQgSUQgb2YgdGhlIGlucHV0IGZpbGUgcGlja2VyIGVsZW1lbnQuCiAqIEBwYXJhbSB7c3RyaW5nfSBvdXRwdXRJZCBFbGVtZW50IElEIG9mIHRoZSBvdXRwdXQgZGlzcGxheS4KICogQHJldHVybiB7IUl0ZXJhYmxlPCFPYmplY3Q+fSBJdGVyYWJsZSBvZiBuZXh0IHN0ZXBzLgogKi8KZnVuY3Rpb24qIHVwbG9hZEZpbGVzU3RlcChpbnB1dElkLCBvdXRwdXRJZCkgewogIGNvbnN0IGlucHV0RWxlbWVudCA9IGRvY3VtZW50LmdldEVsZW1lbnRCeUlkKGlucHV0SWQpOwogIGlucHV0RWxlbWVudC5kaXNhYmxlZCA9IGZhbHNlOwoKICBjb25zdCBvdXRwdXRFbGVtZW50ID0gZG9jdW1lbnQuZ2V0RWxlbWVudEJ5SWQob3V0cHV0SWQpOwogIG91dHB1dEVsZW1lbnQuaW5uZXJIVE1MID0gJyc7CgogIGNvbnN0IHBpY2tlZFByb21pc2UgPSBuZXcgUHJvbWlzZSgocmVzb2x2ZSkgPT4gewogICAgaW5wdXRFbGVtZW50LmFkZEV2ZW50TGlzdGVuZXIoJ2NoYW5nZScsIChlKSA9PiB7CiAgICAgIHJlc29sdmUoZS50YXJnZXQuZmlsZXMpOwogICAgfSk7CiAgfSk7CgogIGNvbnN0IGNhbmNlbCA9IGRvY3VtZW50LmNyZWF0ZUVsZW1lbnQoJ2J1dHRvbicpOwogIGlucHV0RWxlbWVudC5wYXJlbnRFbGVtZW50LmFwcGVuZENoaWxkKGNhbmNlbCk7CiAgY2FuY2VsLnRleHRDb250ZW50ID0gJ0NhbmNlbCB1cGxvYWQnOwogIGNvbnN0IGNhbmNlbFByb21pc2UgPSBuZXcgUHJvbWlzZSgocmVzb2x2ZSkgPT4gewogICAgY2FuY2VsLm9uY2xpY2sgPSAoKSA9PiB7CiAgICAgIHJlc29sdmUobnVsbCk7CiAgICB9OwogIH0pOwoKICAvLyBXYWl0IGZvciB0aGUgdXNlciB0byBwaWNrIHRoZSBmaWxlcy4KICBjb25zdCBmaWxlcyA9IHlpZWxkIHsKICAgIHByb21pc2U6IFByb21pc2UucmFjZShbcGlja2VkUHJvbWlzZSwgY2FuY2VsUHJvbWlzZV0pLAogICAgcmVzcG9uc2U6IHsKICAgICAgYWN0aW9uOiAnc3RhcnRpbmcnLAogICAgfQogIH07CgogIGNhbmNlbC5yZW1vdmUoKTsKCiAgLy8gRGlzYWJsZSB0aGUgaW5wdXQgZWxlbWVudCBzaW5jZSBmdXJ0aGVyIHBpY2tzIGFyZSBub3QgYWxsb3dlZC4KICBpbnB1dEVsZW1lbnQuZGlzYWJsZWQgPSB0cnVlOwoKICBpZiAoIWZpbGVzKSB7CiAgICByZXR1cm4gewogICAgICByZXNwb25zZTogewogICAgICAgIGFjdGlvbjogJ2NvbXBsZXRlJywKICAgICAgfQogICAgfTsKICB9CgogIGZvciAoY29uc3QgZmlsZSBvZiBmaWxlcykgewogICAgY29uc3QgbGkgPSBkb2N1bWVudC5jcmVhdGVFbGVtZW50KCdsaScpOwogICAgbGkuYXBwZW5kKHNwYW4oZmlsZS5uYW1lLCB7Zm9udFdlaWdodDogJ2JvbGQnfSkpOwogICAgbGkuYXBwZW5kKHNwYW4oCiAgICAgICAgYCgke2ZpbGUudHlwZSB8fCAnbi9hJ30pIC0gJHtmaWxlLnNpemV9IGJ5dGVzLCBgICsKICAgICAgICBgbGFzdCBtb2RpZmllZDogJHsKICAgICAgICAgICAgZmlsZS5sYXN0TW9kaWZpZWREYXRlID8gZmlsZS5sYXN0TW9kaWZpZWREYXRlLnRvTG9jYWxlRGF0ZVN0cmluZygpIDoKICAgICAgICAgICAgICAgICAgICAgICAgICAgICAgICAgICAgJ24vYSd9IC0gYCkpOwogICAgY29uc3QgcGVyY2VudCA9IHNwYW4oJzAlIGRvbmUnKTsKICAgIGxpLmFwcGVuZENoaWxkKHBlcmNlbnQpOwoKICAgIG91dHB1dEVsZW1lbnQuYXBwZW5kQ2hpbGQobGkpOwoKICAgIGNvbnN0IGZpbGVEYXRhUHJvbWlzZSA9IG5ldyBQcm9taXNlKChyZXNvbHZlKSA9PiB7CiAgICAgIGNvbnN0IHJlYWRlciA9IG5ldyBGaWxlUmVhZGVyKCk7CiAgICAgIHJlYWRlci5vbmxvYWQgPSAoZSkgPT4gewogICAgICAgIHJlc29sdmUoZS50YXJnZXQucmVzdWx0KTsKICAgICAgfTsKICAgICAgcmVhZGVyLnJlYWRBc0FycmF5QnVmZmVyKGZpbGUpOwogICAgfSk7CiAgICAvLyBXYWl0IGZvciB0aGUgZGF0YSB0byBiZSByZWFkeS4KICAgIGxldCBmaWxlRGF0YSA9IHlpZWxkIHsKICAgICAgcHJvbWlzZTogZmlsZURhdGFQcm9taXNlLAogICAgICByZXNwb25zZTogewogICAgICAgIGFjdGlvbjogJ2NvbnRpbnVlJywKICAgICAgfQogICAgfTsKCiAgICAvLyBVc2UgYSBjaHVua2VkIHNlbmRpbmcgdG8gYXZvaWQgbWVzc2FnZSBzaXplIGxpbWl0cy4gU2VlIGIvNjIxMTU2NjAuCiAgICBsZXQgcG9zaXRpb24gPSAwOwogICAgZG8gewogICAgICBjb25zdCBsZW5ndGggPSBNYXRoLm1pbihmaWxlRGF0YS5ieXRlTGVuZ3RoIC0gcG9zaXRpb24sIE1BWF9QQVlMT0FEX1NJWkUpOwogICAgICBjb25zdCBjaHVuayA9IG5ldyBVaW50OEFycmF5KGZpbGVEYXRhLCBwb3NpdGlvbiwgbGVuZ3RoKTsKICAgICAgcG9zaXRpb24gKz0gbGVuZ3RoOwoKICAgICAgY29uc3QgYmFzZTY0ID0gYnRvYShTdHJpbmcuZnJvbUNoYXJDb2RlLmFwcGx5KG51bGwsIGNodW5rKSk7CiAgICAgIHlpZWxkIHsKICAgICAgICByZXNwb25zZTogewogICAgICAgICAgYWN0aW9uOiAnYXBwZW5kJywKICAgICAgICAgIGZpbGU6IGZpbGUubmFtZSwKICAgICAgICAgIGRhdGE6IGJhc2U2NCwKICAgICAgICB9LAogICAgICB9OwoKICAgICAgbGV0IHBlcmNlbnREb25lID0gZmlsZURhdGEuYnl0ZUxlbmd0aCA9PT0gMCA/CiAgICAgICAgICAxMDAgOgogICAgICAgICAgTWF0aC5yb3VuZCgocG9zaXRpb24gLyBmaWxlRGF0YS5ieXRlTGVuZ3RoKSAqIDEwMCk7CiAgICAgIHBlcmNlbnQudGV4dENvbnRlbnQgPSBgJHtwZXJjZW50RG9uZX0lIGRvbmVgOwoKICAgIH0gd2hpbGUgKHBvc2l0aW9uIDwgZmlsZURhdGEuYnl0ZUxlbmd0aCk7CiAgfQoKICAvLyBBbGwgZG9uZS4KICB5aWVsZCB7CiAgICByZXNwb25zZTogewogICAgICBhY3Rpb246ICdjb21wbGV0ZScsCiAgICB9CiAgfTsKfQoKc2NvcGUuZ29vZ2xlID0gc2NvcGUuZ29vZ2xlIHx8IHt9OwpzY29wZS5nb29nbGUuY29sYWIgPSBzY29wZS5nb29nbGUuY29sYWIgfHwge307CnNjb3BlLmdvb2dsZS5jb2xhYi5fZmlsZXMgPSB7CiAgX3VwbG9hZEZpbGVzLAogIF91cGxvYWRGaWxlc0NvbnRpbnVlLAp9Owp9KShzZWxmKTsK",
              "ok": true,
              "headers": [
                [
                  "content-type",
                  "application/javascript"
                ]
              ],
              "status": 200,
              "status_text": ""
            }
          },
          "base_uri": "https://localhost:8080/",
          "height": 110
        },
        "id": "rYTWypSGVegb",
        "outputId": "1f9cca43-7cd7-4bcb-9030-3667b74c29c1"
      },
      "outputs": [
        {
          "output_type": "display_data",
          "data": {
            "text/plain": [
              "<IPython.core.display.HTML object>"
            ],
            "text/html": [
              "\n",
              "     <input type=\"file\" id=\"files-b191253f-209e-4981-8efc-7bd7570897e3\" name=\"files[]\" multiple disabled\n",
              "        style=\"border:none\" />\n",
              "     <output id=\"result-b191253f-209e-4981-8efc-7bd7570897e3\">\n",
              "      Upload widget is only available when the cell has been executed in the\n",
              "      current browser session. Please rerun this cell to enable.\n",
              "      </output>\n",
              "      <script src=\"/nbextensions/google.colab/files.js\"></script> "
            ]
          },
          "metadata": {}
        },
        {
          "output_type": "stream",
          "name": "stdout",
          "text": [
            "Saving Network_Ads.csv to Network_Ads.csv\n"
          ]
        },
        {
          "output_type": "execute_result",
          "data": {
            "text/plain": [
              "{'Network_Ads.csv': b'Gender,Age,EstimatedSalary,Purchased\\r\\nMale,19,19000,0\\r\\nMale,35,20000,0\\r\\nFemale,26,43000,0\\r\\nFemale,27,57000,0\\r\\nMale,19,76000,0\\r\\nMale,27,58000,0\\r\\nFemale,27,84000,0\\r\\nFemale,32,150000,1\\r\\nMale,25,33000,0\\r\\nFemale,35,65000,0\\r\\nFemale,26,80000,0\\r\\nFemale,26,52000,0\\r\\nMale,20,86000,0\\r\\nMale,32,18000,0\\r\\nMale,18,82000,0\\r\\nMale,29,80000,0\\r\\nMale,47,25000,1\\r\\nMale,45,26000,1\\r\\nMale,46,28000,1\\r\\nFemale,48,29000,1\\r\\nMale,45,22000,1\\r\\nFemale,47,49000,1\\r\\nMale,48,41000,1\\r\\nFemale,45,22000,1\\r\\nMale,46,23000,1\\r\\nMale,47,20000,1\\r\\nMale,49,28000,1\\r\\nFemale,47,30000,1\\r\\nMale,29,43000,0\\r\\nMale,31,18000,0\\r\\nMale,31,74000,0\\r\\nFemale,27,137000,1\\r\\nFemale,21,16000,0\\r\\nFemale,28,44000,0\\r\\nMale,27,90000,0\\r\\nMale,35,27000,0\\r\\nFemale,33,28000,0\\r\\nMale,30,49000,0\\r\\nFemale,26,72000,0\\r\\nFemale,27,31000,0\\r\\nFemale,27,17000,0\\r\\nFemale,33,51000,0\\r\\nMale,35,108000,0\\r\\nMale,30,15000,0\\r\\nFemale,28,84000,0\\r\\nMale,23,20000,0\\r\\nMale,25,79000,0\\r\\nFemale,27,54000,0\\r\\nMale,30,135000,1\\r\\nFemale,31,89000,0\\r\\nFemale,24,32000,0\\r\\nFemale,18,44000,0\\r\\nFemale,29,,0\\r\\nFemale,35,23000,0\\r\\nFemale,27,58000,0\\r\\nFemale,24,55000,0\\r\\nFemale,23,48000,0\\r\\nMale,28,79000,0\\r\\nMale,22,18000,0\\r\\nFemale,32,117000,0\\r\\nMale,27,20000,0\\r\\nMale,25,87000,0\\r\\nFemale,23,66000,0\\r\\nMale,32,120000,1\\r\\nFemale,59,83000,0\\r\\nMale,24,58000,0\\r\\nMale,24,19000,0\\r\\nFemale,23,82000,0\\r\\nFemale,22,63000,0\\r\\nFemale,31,68000,0\\r\\nMale,25,80000,0\\r\\nFemale,24,27000,0\\r\\nFemale,20,,0\\r\\nFemale,33,113000,0\\r\\nMale,32,18000,0\\r\\nMale,34,112000,1\\r\\nMale,18,52000,0\\r\\nFemale,22,27000,0\\r\\nFemale,28,87000,0\\r\\nFemale,26,17000,0\\r\\nMale,30,80000,0\\r\\nMale,39,42000,0\\r\\nMale,20,49000,0\\r\\nMale,35,88000,0\\r\\nFemale,30,62000,0\\r\\nFemale,31,118000,1\\r\\nMale,24,55000,0\\r\\nFemale,28,85000,0\\r\\nMale,26,81000,0\\r\\nMale,35,50000,0\\r\\nMale,22,81000,0\\r\\nFemale,30,116000,0\\r\\nMale,26,15000,0\\r\\nFemale,29,28000,0\\r\\nFemale,29,83000,0\\r\\nFemale,35,44000,0\\r\\nFemale,35,25000,0\\r\\nMale,28,123000,1\\r\\nMale,35,73000,0\\r\\nFemale,28,37000,0\\r\\nMale,27,88000,0\\r\\nMale,28,59000,0\\r\\nFemale,32,86000,0\\r\\nFemale,33,149000,1\\r\\nFemale,19,21000,0\\r\\nMale,21,72000,0\\r\\nFemale,26,35000,0\\r\\nMale,27,89000,0\\r\\nMale,26,86000,0\\r\\nFemale,38,80000,0\\r\\nFemale,39,71000,0\\r\\nFemale,37,71000,0\\r\\nMale,38,61000,0\\r\\nMale,37,55000,0\\r\\nMale,42,80000,0\\r\\nMale,40,57000,0\\r\\nMale,35,75000,0\\r\\nMale,36,52000,0\\r\\nMale,40,59000,0\\r\\nMale,41,59000,0\\r\\nFemale,36,75000,0\\r\\nMale,37,72000,0\\r\\nFemale,40,75000,0\\r\\nMale,35,53000,0\\r\\nFemale,41,51000,0\\r\\nFemale,39,61000,0\\r\\nMale,42,65000,0\\r\\nMale,26,32000,0\\r\\nMale,30,17000,0\\r\\nFemale,26,84000,0\\r\\nMale,31,58000,0\\r\\nMale,33,31000,0\\r\\nMale,30,87000,0\\r\\nFemale,21,68000,0\\r\\nFemale,28,55000,0\\r\\nMale,23,63000,0\\r\\nFemale,20,82000,0\\r\\nMale,30,107000,1\\r\\nFemale,28,59000,0\\r\\nMale,19,25000,0\\r\\nMale,19,85000,0\\r\\nFemale,18,68000,0\\r\\nMale,35,59000,0\\r\\nMale,30,89000,0\\r\\nFemale,34,25000,0\\r\\nFemale,24,89000,0\\r\\nFemale,27,96000,1\\r\\nFemale,41,30000,0\\r\\nMale,29,61000,0\\r\\nMale,20,74000,0\\r\\nFemale,26,15000,0\\r\\nMale,41,45000,0\\r\\nMale,31,76000,0\\r\\nFemale,36,50000,0\\r\\nMale,40,47000,0\\r\\nFemale,31,15000,0\\r\\nMale,46,59000,0\\r\\nMale,29,75000,0\\r\\nMale,26,30000,0\\r\\nFemale,32,135000,1\\r\\nMale,32,100000,1\\r\\nMale,25,90000,0\\r\\nFemale,37,33000,0\\r\\nMale,35,38000,0\\r\\nFemale,33,69000,0\\r\\nFemale,18,86000,0\\r\\nFemale,22,55000,0\\r\\nFemale,35,71000,0\\r\\nMale,29,148000,1\\r\\nFemale,29,47000,0\\r\\nMale,21,88000,0\\r\\nMale,34,115000,0\\r\\nFemale,26,118000,0\\r\\nFemale,34,43000,0\\r\\nFemale,34,72000,0\\r\\nFemale,23,28000,0\\r\\nFemale,35,47000,0\\r\\nMale,25,22000,0\\r\\nMale,24,23000,0\\r\\nFemale,31,34000,0\\r\\nMale,26,16000,0\\r\\nFemale,31,71000,0\\r\\nFemale,32,117000,1\\r\\nMale,33,43000,0\\r\\nFemale,33,60000,0\\r\\nMale,31,66000,0\\r\\nFemale,20,82000,0\\r\\nFemale,33,41000,0\\r\\nMale,35,72000,0\\r\\nMale,28,32000,0\\r\\nMale,24,84000,0\\r\\nFemale,19,26000,0\\r\\nMale,29,43000,0\\r\\nMale,19,70000,0\\r\\nMale,28,89000,0\\r\\nMale,34,43000,0\\r\\nFemale,30,79000,0\\r\\nFemale,20,36000,0\\r\\nMale,26,80000,0\\r\\nMale,35,22000,0\\r\\nMale,35,39000,0\\r\\nMale,49,74000,0\\r\\nFemale,39,134000,1\\r\\nFemale,41,71000,0\\r\\nFemale,58,101000,1\\r\\nFemale,47,47000,0\\r\\nFemale,55,130000,1\\r\\nFemale,52,114000,0\\r\\nFemale,40,142000,1\\r\\nFemale,46,22000,0\\r\\nFemale,48,96000,1\\r\\nMale,52,150000,1\\r\\nFemale,59,42000,0\\r\\nMale,35,58000,0\\r\\nMale,47,43000,0\\r\\nFemale,60,108000,1\\r\\nMale,49,65000,0\\r\\nMale,40,78000,0\\r\\nFemale,46,96000,0\\r\\nMale,59,143000,1\\r\\nFemale,41,80000,0\\r\\nMale,35,91000,1\\r\\nMale,37,,1\\r\\nMale,60,102000,1\\r\\nFemale,35,60000,0\\r\\nMale,37,53000,0\\r\\nFemale,36,126000,1\\r\\nMale,56,,1\\r\\nFemale,40,72000,0\\r\\nFemale,42,80000,1\\r\\nFemale,35,147000,1\\r\\nMale,39,42000,0\\r\\nMale,40,107000,1\\r\\nMale,49,86000,1\\r\\nFemale,38,112000,0\\r\\nMale,46,79000,1\\r\\nMale,40,57000,0\\r\\nFemale,37,80000,0\\r\\nFemale,46,82000,0\\r\\nFemale,53,143000,1\\r\\nMale,42,149000,1\\r\\nMale,38,59000,0\\r\\nFemale,50,88000,1\\r\\nFemale,56,104000,1\\r\\nFemale,41,72000,0\\r\\nFemale,51,146000,1\\r\\nFemale,35,50000,0\\r\\nFemale,57,,1\\r\\nMale,41,52000,0\\r\\nFemale,35,97000,1\\r\\nFemale,44,39000,0\\r\\nMale,37,52000,0\\r\\nFemale,48,134000,1\\r\\nFemale,37,146000,1\\r\\nFemale,50,44000,0\\r\\nFemale,52,90000,1\\r\\nFemale,41,72000,0\\r\\nMale,40,57000,0\\r\\nFemale,58,95000,1\\r\\nFemale,45,131000,1\\r\\nFemale,35,77000,0\\r\\nMale,36,144000,1\\r\\nFemale,55,125000,1\\r\\nFemale,35,72000,0\\r\\nMale,48,90000,1\\r\\nFemale,42,108000,1\\r\\nMale,40,75000,0\\r\\nMale,37,74000,0\\r\\nFemale,47,144000,1\\r\\nMale,40,61000,0\\r\\nFemale,43,133000,0\\r\\nFemale,59,76000,1\\r\\nMale,60,42000,1\\r\\nMale,39,106000,1\\r\\nFemale,57,26000,1\\r\\nMale,57,74000,1\\r\\nMale,38,71000,0\\r\\nMale,49,88000,1\\r\\nFemale,52,,1\\r\\nFemale,50,36000,1\\r\\nFemale,59,88000,1\\r\\nMale,35,61000,0\\r\\nMale,37,70000,1\\r\\nFemale,52,21000,1\\r\\nMale,48,141000,0\\r\\nFemale,37,93000,1\\r\\nFemale,37,62000,0\\r\\nFemale,48,138000,1\\r\\nMale,41,79000,0\\r\\nFemale,37,78000,1\\r\\nMale,39,134000,1\\r\\nMale,49,89000,1\\r\\nMale,55,39000,1\\r\\nMale,37,,0\\r\\nFemale,35,57000,0\\r\\nFemale,36,63000,0\\r\\nMale,42,73000,1\\r\\nFemale,43,112000,1\\r\\nMale,45,79000,0\\r\\nMale,46,117000,1\\r\\nFemale,58,38000,1\\r\\nMale,48,74000,1\\r\\nFemale,37,137000,1\\r\\nMale,37,79000,1\\r\\nFemale,40,60000,0\\r\\nMale,42,54000,0\\r\\nFemale,51,134000,0\\r\\nFemale,47,113000,1\\r\\nMale,36,125000,1\\r\\nFemale,38,50000,0\\r\\nFemale,42,70000,0\\r\\nMale,39,96000,1\\r\\nFemale,38,50000,0\\r\\nFemale,49,141000,1\\r\\nFemale,39,79000,0\\r\\nFemale,39,75000,1\\r\\nFemale,54,104000,1\\r\\nMale,35,55000,0\\r\\nMale,45,32000,1\\r\\nMale,36,60000,0\\r\\nFemale,52,138000,1\\r\\nFemale,53,,1\\r\\nMale,41,52000,0\\r\\nFemale,48,30000,1\\r\\nFemale,48,131000,1\\r\\nFemale,41,60000,0\\r\\nMale,41,72000,0\\r\\nFemale,42,75000,0\\r\\nMale,36,118000,1\\r\\nFemale,47,107000,1\\r\\nMale,38,51000,0\\r\\nFemale,48,119000,1\\r\\nMale,42,65000,0\\r\\nMale,40,65000,0\\r\\nMale,57,60000,1\\r\\nFemale,36,54000,0\\r\\nMale,58,144000,1\\r\\nMale,35,79000,0\\r\\nFemale,38,55000,0\\r\\nMale,39,122000,1\\r\\nFemale,53,104000,1\\r\\nMale,35,75000,0\\r\\nFemale,38,65000,0\\r\\nFemale,47,51000,1\\r\\nMale,47,105000,1\\r\\nFemale,41,63000,0\\r\\nMale,53,72000,1\\r\\nFemale,54,108000,1\\r\\nMale,39,77000,0\\r\\nMale,38,61000,0\\r\\nFemale,38,113000,1\\r\\nMale,37,75000,0\\r\\nFemale,42,90000,1\\r\\nFemale,37,57000,0\\r\\nMale,36,99000,1\\r\\nMale,60,34000,1\\r\\nMale,54,70000,1\\r\\nFemale,41,72000,0\\r\\nMale,40,71000,1\\r\\nMale,42,54000,0\\r\\nMale,43,129000,1\\r\\nFemale,53,34000,1\\r\\nFemale,47,50000,1\\r\\nFemale,42,79000,0\\r\\nMale,42,104000,1\\r\\nFemale,59,29000,1\\r\\nFemale,58,47000,1\\r\\nMale,46,88000,1\\r\\nMale,38,71000,0\\r\\nFemale,54,26000,1\\r\\nFemale,60,46000,1\\r\\nMale,60,,1\\r\\nFemale,39,73000,0\\r\\nMale,59,130000,1\\r\\nFemale,37,80000,0\\r\\nFemale,46,32000,1\\r\\nFemale,46,74000,0\\r\\nFemale,42,53000,0\\r\\nMale,41,87000,1\\r\\nFemale,58,23000,1\\r\\nMale,42,64000,0\\r\\nMale,48,33000,1\\r\\nFemale,44,139000,1\\r\\nMale,49,28000,1\\r\\nFemale,57,33000,1\\r\\nMale,56,,1\\r\\nFemale,49,39000,1\\r\\nMale,39,71000,0\\r\\nMale,47,34000,1\\r\\nFemale,48,35000,1\\r\\nMale,48,33000,1\\r\\nMale,47,23000,1\\r\\nFemale,45,,1\\r\\nMale,60,42000,1\\r\\nFemale,39,59000,0\\r\\nFemale,46,41000,1\\r\\nMale,51,23000,1\\r\\nFemale,50,20000,1\\r\\nMale,36,33000,0\\r\\nFemale,49,36000,1\\r\\n'}"
            ]
          },
          "metadata": {},
          "execution_count": 2
        }
      ],
      "source": [
        "from google.colab import files\n",
        "files.upload()"
      ]
    },
    {
      "cell_type": "code",
      "source": [
        "import numpy as np\n",
        "import pandas as pd\n",
        "import matplotlib.pyplot as plt"
      ],
      "metadata": {
        "id": "5tdiAWNBVn_V"
      },
      "execution_count": null,
      "outputs": []
    },
    {
      "cell_type": "code",
      "source": [
        "data = pd.read_csv('Network_Ads.csv')\n",
        "data.info()"
      ],
      "metadata": {
        "colab": {
          "base_uri": "https://localhost:8080/"
        },
        "id": "Cf2GUyUXV-co",
        "outputId": "6c31fc94-f863-4d02-b353-34c6a4758e18"
      },
      "execution_count": null,
      "outputs": [
        {
          "output_type": "stream",
          "name": "stdout",
          "text": [
            "<class 'pandas.core.frame.DataFrame'>\n",
            "RangeIndex: 400 entries, 0 to 399\n",
            "Data columns (total 4 columns):\n",
            " #   Column           Non-Null Count  Dtype  \n",
            "---  ------           --------------  -----  \n",
            " 0   Gender           400 non-null    object \n",
            " 1   Age              400 non-null    int64  \n",
            " 2   EstimatedSalary  389 non-null    float64\n",
            " 3   Purchased        400 non-null    int64  \n",
            "dtypes: float64(1), int64(2), object(1)\n",
            "memory usage: 12.6+ KB\n"
          ]
        }
      ]
    },
    {
      "cell_type": "code",
      "source": [
        "from sklearn.impute import SimpleImputer\n",
        "\n",
        "new_data = data\n",
        "imputer = SimpleImputer(missing_values=np.nan, strategy='mean')\n",
        "new_data.iloc[:,[2]] = imputer.fit_transform(data.iloc[:,[2]])\n",
        "new_data.info()"
      ],
      "metadata": {
        "colab": {
          "base_uri": "https://localhost:8080/"
        },
        "id": "gk8mw3hPWHbQ",
        "outputId": "e6b5a705-a856-4d22-da3a-018209e94d31"
      },
      "execution_count": null,
      "outputs": [
        {
          "output_type": "stream",
          "name": "stdout",
          "text": [
            "<class 'pandas.core.frame.DataFrame'>\n",
            "RangeIndex: 400 entries, 0 to 399\n",
            "Data columns (total 4 columns):\n",
            " #   Column           Non-Null Count  Dtype  \n",
            "---  ------           --------------  -----  \n",
            " 0   Gender           400 non-null    object \n",
            " 1   Age              400 non-null    int64  \n",
            " 2   EstimatedSalary  400 non-null    float64\n",
            " 3   Purchased        400 non-null    int64  \n",
            "dtypes: float64(1), int64(2), object(1)\n",
            "memory usage: 12.6+ KB\n"
          ]
        }
      ]
    },
    {
      "cell_type": "code",
      "source": [
        "# Classify purchased by age and estimated salary\n",
        "\n",
        "# Chọn cột Age và EstimatedSalary để làm thông tin phân biệt người đó có mua không\n",
        "X = new_data.iloc[:, [1,2]].values # Age, EstimatedSalary\n",
        "y = new_data.iloc[:, 3].values # Purchased"
      ],
      "metadata": {
        "id": "OIS7HODykegT"
      },
      "execution_count": null,
      "outputs": []
    },
    {
      "cell_type": "code",
      "source": [
        "from sklearn.model_selection import train_test_split\n",
        "\n",
        "X_train, X_test, y_train, y_test = train_test_split(X, y, test_size = 100)\n",
        "\n",
        "print('Training size:', len(X_train))\n",
        "print('Test size:', len(X_test))"
      ],
      "metadata": {
        "colab": {
          "base_uri": "https://localhost:8080/"
        },
        "id": "3PXu9HE9ARUo",
        "outputId": "024f0015-9409-4700-c806-2c38d7b5cc33"
      },
      "execution_count": null,
      "outputs": [
        {
          "output_type": "stream",
          "name": "stdout",
          "text": [
            "Training size: 300\n",
            "Test size: 100\n"
          ]
        }
      ]
    },
    {
      "cell_type": "code",
      "source": [
        "from sklearn import neighbors, datasets\n",
        "clf = neighbors.KNeighborsClassifier(n_neighbors = 1, p = 2)\n",
        "clf.fit(X_train, y_train)\n",
        "y_pred = clf.predict(X_test)\n",
        "\n",
        "print(y_pred[20:40])\n",
        "print(y_test[20:40])"
      ],
      "metadata": {
        "colab": {
          "base_uri": "https://localhost:8080/"
        },
        "id": "CkBdg_NCiThu",
        "outputId": "418cd881-d512-4f65-8b66-82dfd8ea18f1"
      },
      "execution_count": null,
      "outputs": [
        {
          "output_type": "stream",
          "name": "stdout",
          "text": [
            "[1 0 1 0 0 1 0 0 0 0 1 0 0 0 0 0 1 0 0 0]\n",
            "[1 0 1 0 0 1 1 0 0 0 1 0 0 0 0 1 1 0 0 0]\n"
          ]
        }
      ]
    },
    {
      "cell_type": "code",
      "source": [
        "from sklearn.metrics import accuracy_score\n",
        "print(\"Accuracy of 1NN: %.2f %%\" %(100*accuracy_score(y_test, y_pred)))"
      ],
      "metadata": {
        "colab": {
          "base_uri": "https://localhost:8080/"
        },
        "id": "GNa4nSy1lPsR",
        "outputId": "b45155e3-e9e9-45f2-e979-99e0ad331f66"
      },
      "execution_count": null,
      "outputs": [
        {
          "output_type": "stream",
          "name": "stdout",
          "text": [
            "Accuracy of 1NN: 82.00 %\n"
          ]
        }
      ]
    },
    {
      "cell_type": "code",
      "source": [
        "clf = neighbors.KNeighborsClassifier(n_neighbors = 10, p = 2, weights = 'distance')\n",
        "clf.fit(X_train, y_train)\n",
        "y_pred = clf.predict(X_test)\n",
        "print(\"Accuracy of 10NN: %.2f %%\" %(100*accuracy_score(y_test, y_pred)))"
      ],
      "metadata": {
        "colab": {
          "base_uri": "https://localhost:8080/"
        },
        "id": "lgr0F6RhlWHw",
        "outputId": "b958d626-30f9-482d-bcba-9ea094f7ec6d"
      },
      "execution_count": null,
      "outputs": [
        {
          "output_type": "stream",
          "name": "stdout",
          "text": [
            "Accuracy of 10NN: 80.00 %\n"
          ]
        }
      ]
    },
    {
      "cell_type": "code",
      "source": [
        "# Classify gender by age and estimated salary and purchased\n",
        "\n",
        "X = new_data.iloc[:, [1,2,3]].values # Age, EstimatedSalary, Purchased\n",
        "y = [0 if i == 'Male' else 1 for i in new_data.iloc[:, 0].values] # Gender"
      ],
      "metadata": {
        "id": "8gm-WHngmtOl"
      },
      "execution_count": null,
      "outputs": []
    },
    {
      "cell_type": "code",
      "source": [
        "X_train, X_test, y_train, y_test = train_test_split(X, y, test_size = 100)\n",
        "clf = neighbors.KNeighborsClassifier(n_neighbors = 10, p = 2, weights = 'distance')\n",
        "clf.fit(X_train, y_train)\n",
        "y_pred = clf.predict(X_test)\n",
        "print(\"Accuracy of 10NN: %.2f %%\" %(100*accuracy_score(y_test, y_pred)))"
      ],
      "metadata": {
        "colab": {
          "base_uri": "https://localhost:8080/"
        },
        "id": "-OlgGQzHnQkN",
        "outputId": "829a47b8-3f65-4bc3-e2c7-ed4fb0339d06"
      },
      "execution_count": null,
      "outputs": [
        {
          "output_type": "stream",
          "name": "stdout",
          "text": [
            "Accuracy of 10NN: 51.00 %\n"
          ]
        }
      ]
    }
  ]
}