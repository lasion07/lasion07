{
  "nbformat": 4,
  "nbformat_minor": 0,
  "metadata": {
    "colab": {
      "name": "Untitled1.ipynb",
      "provenance": [],
      "collapsed_sections": [],
      "toc_visible": true
    },
    "kernelspec": {
      "name": "python3",
      "display_name": "Python 3"
    },
    "language_info": {
      "name": "python"
    }
  },
  "cells": [
    {
      "cell_type": "code",
      "execution_count": 5,
      "metadata": {
        "colab": {
          "resources": {
            "http://localhost:8080/nbextensions/google.colab/files.js": {
              "data": "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",
              "ok": true,
              "headers": [
                [
                  "content-type",
                  "application/javascript"
                ]
              ],
              "status": 200,
              "status_text": ""
            }
          },
          "base_uri": "https://localhost:8080/",
          "height": 110
        },
        "id": "W5qhVIZRxP2j",
        "outputId": "11bc316d-61d8-4857-ff49-eaa56b6c3b63"
      },
      "outputs": [
        {
          "output_type": "display_data",
          "data": {
            "text/html": [
              "\n",
              "     <input type=\"file\" id=\"files-19aa0666-cacd-4def-83ff-db91441b8208\" name=\"files[]\" multiple disabled\n",
              "        style=\"border:none\" />\n",
              "     <output id=\"result-19aa0666-cacd-4def-83ff-db91441b8208\">\n",
              "      Upload widget is only available when the cell has been executed in the\n",
              "      current browser session. Please rerun this cell to enable.\n",
              "      </output>\n",
              "      <script src=\"/nbextensions/google.colab/files.js\"></script> "
            ],
            "text/plain": [
              "<IPython.core.display.HTML object>"
            ]
          },
          "metadata": {}
        },
        {
          "output_type": "stream",
          "name": "stdout",
          "text": [
            "Saving Mall_Customers_2.csv to Mall_Customers_2.csv\n"
          ]
        },
        {
          "output_type": "execute_result",
          "data": {
            "text/plain": [
              "{'Mall_Customers_2.csv': b'CustomerID,Genre,Age,Annual Income (k$),Spending Score (1-100)\\n1,Male,19,15,39\\n2,Male,21,15,81\\n3,Female,20,16,6\\n4,Female,23,16,77\\n5,Female,31,17,40\\n6,Female,22,17,76\\n7,Female,35,18,6\\n8,Female,23,18,94\\n9,Male,64,19,3\\n10,Female,30,19,72\\n11,Male,67,19,14\\n12,Female,35,19,99\\n13,Female,58,20,15\\n14,Female,24,20,77\\n15,Male,37,20,13\\n16,Male,22,20,79\\n17,Female,35,21,35\\n18,Male,20,21,66\\n19,Male,52,23,29\\n20,Female,35,23,98\\n21,Male,35,24,35\\n22,Male,,24,73\\n23,Female,46,25,5\\n24,Male,31,25,73\\n25,Female,54,28,14\\n26,Male,29,28,82\\n27,Female,45,28,32\\n28,Male,35,28,61\\n29,Female,40,29,31\\n30,Female,23,29,87\\n31,Male,60,30,4\\n32,Female,21,30,73\\n33,Male,53,33,4\\n34,Male,18,33,92\\n35,Female,49,33,14\\n36,Female,21,33,81\\n37,Female,42,34,17\\n38,Female,30,34,73\\n39,Female,36,37,26\\n40,Female,20,37,75\\n41,Female,65,38,35\\n42,Male,24,38,92\\n43,Male,48,39,36\\n44,Female,31,39,61\\n45,Female,49,39,28\\n46,Female,24,39,65\\n47,Female,50,40,55\\n48,Female,27,40,47\\n49,Female,29,40,42\\n50,Female,31,40,42\\n51,Female,49,42,52\\n52,Male,33,42,60\\n53,Female,31,43,54\\n54,Male,59,43,60\\n55,Female,50,43,45\\n56,Male,47,43,41\\n57,Female,51,44,50\\n58,Male,69,44,46\\n59,Female,27,46,51\\n60,Male,53,46,46\\n61,Male,70,46,56\\n62,Male,19,46,55\\n63,Female,67,47,52\\n64,Female,54,47,59\\n65,Male,63,48,51\\n66,Male,18,48,59\\n67,Female,,48,50\\n68,Female,68,48,48\\n69,Male,19,48,59\\n70,Female,32,48,47\\n71,Male,70,49,55\\n72,Female,47,49,42\\n73,Female,60,50,49\\n74,Female,60,50,56\\n75,Male,59,54,47\\n76,Male,26,54,54\\n77,Female,45,54,53\\n78,Male,40,54,48\\n79,Female,23,54,52\\n80,Female,49,54,42\\n81,Male,57,54,51\\n82,Male,38,54,55\\n83,Male,67,54,41\\n84,Female,46,54,44\\n85,Female,21,54,57\\n86,Male,48,54,46\\n87,Female,55,57,58\\n88,Female,22,57,55\\n89,Female,34,58,60\\n90,Female,50,58,46\\n91,Female,68,59,55\\n92,Male,18,59,41\\n93,Male,48,60,49\\n94,Female,40,60,40\\n95,Female,32,60,42\\n96,Male,24,60,52\\n97,Female,47,60,47\\n98,Female,27,60,50\\n99,Male,48,61,42\\n100,Male,20,61,49\\n101,Female,23,62,41\\n102,Female,49,62,48\\n103,Male,67,62,59\\n104,Male,26,62,55\\n105,Male,49,62,56\\n106,Female,21,62,42\\n107,Female,66,63,50\\n108,Male,54,63,46\\n109,Male,68,63,43\\n110,Male,66,63,48\\n111,Male,65,63,52\\n112,Female,19,63,54\\n113,Female,38,64,42\\n114,Male,19,64,46\\n115,Female,18,65,48\\n116,Female,19,65,50\\n117,Female,63,65,43\\n118,Female,49,65,59\\n119,Female,51,67,43\\n120,Female,50,67,57\\n121,Male,27,67,56\\n122,Female,38,67,40\\n123,Female,40,69,58\\n124,Male,39,69,91\\n125,Female,23,70,29\\n126,Female,31,70,77\\n127,Male,43,71,35\\n128,Male,40,71,95\\n129,Male,,71,11\\n130,Male,38,71,75\\n131,Male,47,71,9\\n132,Male,39,71,75\\n133,Female,25,72,34\\n134,Female,31,72,71\\n135,Male,20,73,5\\n136,Female,29,73,88\\n137,Female,44,73,7\\n138,Male,32,73,73\\n139,Male,19,74,10\\n140,Female,35,74,72\\n141,Female,57,75,\\n142,Male,32,75,93\\n143,Female,28,76,40\\n144,Female,32,76,87\\n145,Male,25,77,12\\n146,Male,28,77,97\\n147,Male,48,77,36\\n148,Female,32,77,74\\n149,Female,34,78,22\\n150,Male,34,78,90\\n151,Male,43,78,17\\n152,Male,39,78,88\\n153,Female,44,78,20\\n154,Female,38,78,76\\n155,Female,47,78,16\\n156,Female,27,78,89\\n157,Male,37,78,1\\n158,Female,30,78,78\\n159,Male,34,78,1\\n160,Female,30,78,73\\n161,Female,56,79,35\\n162,Female,29,79,83\\n163,Male,19,81,5\\n164,Female,31,81,93\\n165,Male,50,85,26\\n166,Female,36,85,75\\n167,Male,42,86,20\\n168,Female,33,86,95\\n169,Female,36,87,27\\n170,Male,32,87,63\\n171,Male,40,87,13\\n172,Male,,87,75\\n173,Male,36,87,10\\n174,Male,36,87,92\\n175,Female,52,88,13\\n176,Female,30,88,86\\n177,Male,58,88,15\\n178,Male,27,88,\\n179,Male,59,93,14\\n180,Male,35,93,90\\n181,Female,37,97,32\\n182,Female,32,97,86\\n183,Male,46,98,15\\n184,Female,29,98,88\\n185,Female,41,99,39\\n186,Male,30,99,97\\n187,Female,,101,24\\n188,Male,28,101,68\\n189,Female,41,103,17\\n190,Female,36,103,\\n191,Female,34,103,23\\n192,Female,32,103,69\\n193,Male,33,113,8\\n194,Female,38,113,91\\n195,Female,47,120,16\\n196,Female,35,120,79\\n197,Female,45,126,28\\n198,Male,32,126,74\\n199,Male,32,137,18\\n200,Male,30,137,83\\n'}"
            ]
          },
          "metadata": {},
          "execution_count": 5
        }
      ],
      "source": [
        "from google.colab import files\n",
        "files.upload()"
      ]
    },
    {
      "cell_type": "markdown",
      "source": [
        ""
      ],
      "metadata": {
        "id": "f9ytnrVXyNY1"
      }
    },
    {
      "cell_type": "code",
      "source": [
        "import numpy as np\n",
        "import pandas as pd\n",
        "import matplotlib.pyplot as plt"
      ],
      "metadata": {
        "id": "yqOBJ--ByDRU"
      },
      "execution_count": 2,
      "outputs": []
    },
    {
      "cell_type": "markdown",
      "source": [
        "# Bài 1"
      ],
      "metadata": {
        "id": "EJg3QKnR-nxQ"
      }
    },
    {
      "cell_type": "code",
      "source": [
        "from sklearn.impute import SimpleImputer\n",
        "# Xử lý lỗi missing data\n",
        "df = pd.read_csv(\"Mall_Customers_2.csv\")\n",
        "imputer = SimpleImputer(missing_values=np.nan, strategy='mean')\n",
        "df.iloc[:, 2:3] = imputer.fit_transform(df.iloc[:, 2:3])\n",
        "df.iloc[:, 4:5] = imputer.fit_transform(df.iloc[:, 4:5])"
      ],
      "metadata": {
        "id": "JcaA7lb1_xgE"
      },
      "execution_count": 6,
      "outputs": []
    },
    {
      "cell_type": "code",
      "source": [
        "df.info()"
      ],
      "metadata": {
        "colab": {
          "base_uri": "https://localhost:8080/"
        },
        "id": "Y0OvTy1vyjOa",
        "outputId": "6b3a7413-6ac6-4c3a-b541-d7bbec1bd66f"
      },
      "execution_count": 7,
      "outputs": [
        {
          "output_type": "stream",
          "name": "stdout",
          "text": [
            "<class 'pandas.core.frame.DataFrame'>\n",
            "RangeIndex: 200 entries, 0 to 199\n",
            "Data columns (total 5 columns):\n",
            " #   Column                  Non-Null Count  Dtype  \n",
            "---  ------                  --------------  -----  \n",
            " 0   CustomerID              200 non-null    int64  \n",
            " 1   Genre                   200 non-null    object \n",
            " 2   Age                     200 non-null    float64\n",
            " 3   Annual Income (k$)      200 non-null    int64  \n",
            " 4   Spending Score (1-100)  200 non-null    float64\n",
            "dtypes: float64(2), int64(2), object(1)\n",
            "memory usage: 7.9+ KB\n"
          ]
        }
      ]
    },
    {
      "cell_type": "code",
      "source": [
        "df"
      ],
      "metadata": {
        "colab": {
          "base_uri": "https://localhost:8080/",
          "height": 424
        },
        "id": "mt_09jZ2ptX7",
        "outputId": "c086d9c2-af25-40a4-f0ed-f889865a7475"
      },
      "execution_count": 8,
      "outputs": [
        {
          "output_type": "execute_result",
          "data": {
            "text/html": [
              "<div>\n",
              "<style scoped>\n",
              "    .dataframe tbody tr th:only-of-type {\n",
              "        vertical-align: middle;\n",
              "    }\n",
              "\n",
              "    .dataframe tbody tr th {\n",
              "        vertical-align: top;\n",
              "    }\n",
              "\n",
              "    .dataframe thead th {\n",
              "        text-align: right;\n",
              "    }\n",
              "</style>\n",
              "<table border=\"1\" class=\"dataframe\">\n",
              "  <thead>\n",
              "    <tr style=\"text-align: right;\">\n",
              "      <th></th>\n",
              "      <th>CustomerID</th>\n",
              "      <th>Genre</th>\n",
              "      <th>Age</th>\n",
              "      <th>Annual Income (k$)</th>\n",
              "      <th>Spending Score (1-100)</th>\n",
              "    </tr>\n",
              "  </thead>\n",
              "  <tbody>\n",
              "    <tr>\n",
              "      <th>0</th>\n",
              "      <td>1</td>\n",
              "      <td>Male</td>\n",
              "      <td>19.0</td>\n",
              "      <td>15</td>\n",
              "      <td>39.0</td>\n",
              "    </tr>\n",
              "    <tr>\n",
              "      <th>1</th>\n",
              "      <td>2</td>\n",
              "      <td>Male</td>\n",
              "      <td>21.0</td>\n",
              "      <td>15</td>\n",
              "      <td>81.0</td>\n",
              "    </tr>\n",
              "    <tr>\n",
              "      <th>2</th>\n",
              "      <td>3</td>\n",
              "      <td>Female</td>\n",
              "      <td>20.0</td>\n",
              "      <td>16</td>\n",
              "      <td>6.0</td>\n",
              "    </tr>\n",
              "    <tr>\n",
              "      <th>3</th>\n",
              "      <td>4</td>\n",
              "      <td>Female</td>\n",
              "      <td>23.0</td>\n",
              "      <td>16</td>\n",
              "      <td>77.0</td>\n",
              "    </tr>\n",
              "    <tr>\n",
              "      <th>4</th>\n",
              "      <td>5</td>\n",
              "      <td>Female</td>\n",
              "      <td>31.0</td>\n",
              "      <td>17</td>\n",
              "      <td>40.0</td>\n",
              "    </tr>\n",
              "    <tr>\n",
              "      <th>...</th>\n",
              "      <td>...</td>\n",
              "      <td>...</td>\n",
              "      <td>...</td>\n",
              "      <td>...</td>\n",
              "      <td>...</td>\n",
              "    </tr>\n",
              "    <tr>\n",
              "      <th>195</th>\n",
              "      <td>196</td>\n",
              "      <td>Female</td>\n",
              "      <td>35.0</td>\n",
              "      <td>120</td>\n",
              "      <td>79.0</td>\n",
              "    </tr>\n",
              "    <tr>\n",
              "      <th>196</th>\n",
              "      <td>197</td>\n",
              "      <td>Female</td>\n",
              "      <td>45.0</td>\n",
              "      <td>126</td>\n",
              "      <td>28.0</td>\n",
              "    </tr>\n",
              "    <tr>\n",
              "      <th>197</th>\n",
              "      <td>198</td>\n",
              "      <td>Male</td>\n",
              "      <td>32.0</td>\n",
              "      <td>126</td>\n",
              "      <td>74.0</td>\n",
              "    </tr>\n",
              "    <tr>\n",
              "      <th>198</th>\n",
              "      <td>199</td>\n",
              "      <td>Male</td>\n",
              "      <td>32.0</td>\n",
              "      <td>137</td>\n",
              "      <td>18.0</td>\n",
              "    </tr>\n",
              "    <tr>\n",
              "      <th>199</th>\n",
              "      <td>200</td>\n",
              "      <td>Male</td>\n",
              "      <td>30.0</td>\n",
              "      <td>137</td>\n",
              "      <td>83.0</td>\n",
              "    </tr>\n",
              "  </tbody>\n",
              "</table>\n",
              "<p>200 rows × 5 columns</p>\n",
              "</div>"
            ],
            "text/plain": [
              "     CustomerID   Genre   Age  Annual Income (k$)  Spending Score (1-100)\n",
              "0             1    Male  19.0                  15                    39.0\n",
              "1             2    Male  21.0                  15                    81.0\n",
              "2             3  Female  20.0                  16                     6.0\n",
              "3             4  Female  23.0                  16                    77.0\n",
              "4             5  Female  31.0                  17                    40.0\n",
              "..          ...     ...   ...                 ...                     ...\n",
              "195         196  Female  35.0                 120                    79.0\n",
              "196         197  Female  45.0                 126                    28.0\n",
              "197         198    Male  32.0                 126                    74.0\n",
              "198         199    Male  32.0                 137                    18.0\n",
              "199         200    Male  30.0                 137                    83.0\n",
              "\n",
              "[200 rows x 5 columns]"
            ]
          },
          "metadata": {},
          "execution_count": 8
        }
      ]
    },
    {
      "cell_type": "code",
      "source": [
        "# 1\n",
        "# Sao chép dữ liệu từ dataframe gốc \n",
        "df1 = df.copy()\n",
        "\n",
        "# Tạo mảng lưu trữ thông tin\n",
        "x_male = []\n",
        "x_female = []\n",
        "y_male = []\n",
        "y_female = []\n",
        "\n",
        "# Duyệt cột 'Genre' nếu là nam thì lưu vào mảng nam, còn lại lưu vào mảng nữ:\n",
        "for i in range(0, len(df1[['Genre']])):\n",
        "  if df1.iloc[[i],[1]].values == 'Male':\n",
        "    x_male.append(df1.iloc[[i],[2]])\n",
        "    y_male.append(df1.iloc[[i],[4]])\n",
        "  else:\n",
        "    x_female.append(df1.iloc[[i],[2]])\n",
        "    y_female.append(df1.iloc[[i],[4]])\n",
        "    \n",
        "# Vẽ biểu đồ phân bổ\n",
        "plt.xlabel('Age')\n",
        "plt.ylabel('Spending Score (1-100)')\n",
        "plt.scatter(x_male,y_male, c='Blue')\n",
        "plt.scatter(x_female, y_female, c='Pink')\n",
        "plt.show()"
      ],
      "metadata": {
        "colab": {
          "base_uri": "https://localhost:8080/",
          "height": 279
        },
        "id": "51be6hUeylHN",
        "outputId": "f7d31ddd-a27c-415e-eee5-afede502c273"
      },
      "execution_count": null,
      "outputs": [
        {
          "output_type": "display_data",
          "data": {
            "image/png": "[encoded data removed]",
            "text/plain": [
              "<Figure size 432x288 with 1 Axes>"
            ]
          },
          "metadata": {
            "needs_background": "light"
          }
        }
      ]
    },
    {
      "cell_type": "code",
      "source": [
        "# Duyệt dữ liệu\n",
        "# x = set([i for i in df1['Age']])\n",
        "df1 = df.copy()\n",
        "ages = df1['Age']\n",
        "income = df1['Annual Income (k$)']\n",
        "# # Mảng income chứa giá trị thu nhập trung bình theo tuổi\n",
        "# for i in sorted(x):\n",
        "#   ages.append(i)\n",
        "#   income.append(df1.loc[(df1.Age == i), ['Annual Income (k$)']].mean())\n",
        "x_max = -1\n",
        "y_max = -1\n",
        "max = 0\n",
        "\n",
        "# Tìm max thu nhập\n",
        "for i in range(0, len(income)):\n",
        "  if income[i] > max:\n",
        "    max = income[i]\n",
        "    x_max = ages[i]\n",
        "    y_max = income[i]\n",
        "\n",
        "# Vẽ biểu đồ đường .\n",
        "plt.ylabel('Annual Income (k$)')\n",
        "plt.xlabel('Age')\n",
        "plt.plot(ages,income)\n",
        "plt.annotate('MAX', xy=(x_max,y_max), xytext=(x_max+5,y_max+15), arrowprops=dict(facecolor='Green'));"
      ],
      "metadata": {
        "colab": {
          "base_uri": "https://localhost:8080/",
          "height": 302
        },
        "id": "oqdgki31-bd1",
        "outputId": "99208997-35c1-4466-9c59-d502ad8a6efd"
      },
      "execution_count": 14,
      "outputs": [
        {
          "output_type": "display_data",
          "data": {
            "image/png": "[encoded data removed]",
            "text/plain": [
              "<Figure size 432x288 with 1 Axes>"
            ]
          },
          "metadata": {
            "needs_background": "light"
          }
        }
      ]
    },
    {
      "cell_type": "markdown",
      "source": [
        "#Bài 2"
      ],
      "metadata": {
        "id": "XH8ObsTy-8N1"
      }
    },
    {
      "cell_type": "code",
      "source": [
        "files.upload()"
      ],
      "metadata": {
        "colab": {
          "resources": {
            "http://localhost:8080/nbextensions/google.colab/files.js": {
              "data": "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",
              "ok": true,
              "headers": [
                [
                  "content-type",
                  "application/javascript"
                ]
              ],
              "status": 200,
              "status_text": ""
            }
          },
          "base_uri": "https://localhost:8080/",
          "height": 110
        },
        "id": "WZTkdQimBXOA",
        "outputId": "6f534180-21fc-4272-e0dd-31de5773be40"
      },
      "execution_count": null,
      "outputs": [
        {
          "output_type": "display_data",
          "data": {
            "text/html": [
              "\n",
              "     <input type=\"file\" id=\"files-92cb6b4d-f328-460a-810a-1b7ff129b92f\" name=\"files[]\" multiple disabled\n",
              "        style=\"border:none\" />\n",
              "     <output id=\"result-92cb6b4d-f328-460a-810a-1b7ff129b92f\">\n",
              "      Upload widget is only available when the cell has been executed in the\n",
              "      current browser session. Please rerun this cell to enable.\n",
              "      </output>\n",
              "      <script src=\"/nbextensions/google.colab/files.js\"></script> "
            ],
            "text/plain": [
              "<IPython.core.display.HTML object>"
            ]
          },
          "metadata": {}
        },
        {
          "output_type": "stream",
          "name": "stdout",
          "text": [
            "Saving Social_Network_Ads_2.csv to Social_Network_Ads_2.csv\n"
          ]
        },
        {
          "output_type": "execute_result",
          "data": {
            "text/plain": [
              "{'Social_Network_Ads_2.csv': b'Age,EstimatedSalary,Purchased\\n19,19000,0\\n35,20000,0\\n26,43000,0\\n27,57000,0\\n19,76000,0\\n27,58000,0\\n27,84000,0\\n32,150000,1\\n25,33000,0\\n35,65000,0\\n26,80000,0\\n26,52000,0\\n20,86000,0\\n32,18000,0\\n18,82000,0\\n29,80000,0\\n47,25000,1\\n45,26000,1\\n46,28000,1\\n48,29000,1\\n45,22000,1\\n47,49000,1\\n48,41000,1\\n45,22000,1\\n46,23000,1\\n47,20000,1\\n49,28000,1\\n47,30000,1\\n29,43000,0\\n31,18000,0\\n31,,0\\n27,137000,1\\n21,16000,0\\n28,44000,0\\n27,90000,0\\n35,27000,0\\n33,28000,0\\n30,49000,0\\n26,72000,0\\n27,31000,0\\n27,17000,0\\n33,51000,0\\n35,108000,0\\n30,15000,0\\n28,84000,0\\n23,20000,0\\n25,79000,0\\n27,,0\\n30,135000,1\\n31,89000,0\\n24,32000,0\\n18,44000,\\n29,83000,0\\n35,23000,0\\n27,58000,0\\n24,55000,0\\n23,48000,0\\n28,79000,0\\n22,18000,0\\n32,,0\\n27,20000,0\\n25,87000,0\\n23,66000,0\\n32,120000,1\\n59,83000,0\\n24,58000,0\\n24,19000,0\\n23,82000,0\\n22,63000,0\\n31,68000,0\\n25,80000,0\\n24,27000,0\\n20,23000,0\\n33,113000,0\\n32,18000,\\n34,112000,1\\n18,52000,0\\n22,27000,0\\n28,87000,0\\n26,17000,0\\n30,80000,0\\n39,42000,0\\n20,49000,0\\n35,88000,0\\n30,62000,0\\n31,118000,1\\n24,55000,0\\n28,85000,0\\n26,81000,0\\n35,50000,0\\n22,81000,0\\n30,116000,0\\n26,15000,0\\n29,28000,0\\n29,83000,0\\n35,44000,0\\n35,25000,0\\n28,123000,1\\n35,73000,0\\n28,37000,0\\n27,88000,0\\n28,59000,0\\n32,86000,0\\n33,149000,1\\n19,21000,0\\n21,72000,0\\n26,35000,0\\n27,89000,0\\n26,86000,0\\n38,80000,0\\n39,71000,0\\n37,71000,0\\n38,61000,0\\n37,55000,0\\n42,80000,0\\n40,57000,0\\n35,75000,0\\n36,52000,0\\n40,59000,0\\n41,59000,0\\n36,75000,0\\n37,72000,0\\n40,75000,0\\n35,53000,0\\n41,51000,0\\n39,61000,0\\n42,65000,0\\n26,32000,0\\n30,17000,0\\n26,84000,0\\n31,58000,0\\n33,31000,0\\n30,87000,0\\n21,68000,0\\n28,55000,0\\n23,63000,0\\n20,82000,0\\n30,107000,1\\n28,59000,0\\n19,25000,0\\n19,85000,0\\n18,68000,0\\n35,59000,0\\n30,89000,0\\n34,25000,0\\n24,89000,0\\n27,96000,1\\n41,30000,0\\n29,61000,0\\n20,74000,0\\n26,15000,0\\n41,45000,0\\n31,76000,0\\n36,50000,0\\n40,47000,0\\n31,15000,0\\n46,59000,0\\n29,75000,0\\n26,30000,0\\n32,135000,1\\n32,100000,1\\n25,90000,0\\n37,33000,0\\n35,38000,0\\n33,69000,0\\n18,86000,0\\n22,55000,0\\n35,71000,0\\n29,148000,1\\n29,47000,0\\n21,88000,0\\n34,115000,0\\n26,118000,0\\n34,43000,0\\n34,72000,0\\n23,28000,0\\n35,47000,0\\n25,22000,0\\n24,23000,0\\n31,34000,0\\n26,16000,0\\n31,71000,0\\n32,117000,1\\n33,43000,0\\n33,60000,0\\n31,66000,0\\n20,82000,0\\n33,41000,0\\n35,72000,0\\n28,32000,0\\n24,84000,0\\n19,26000,0\\n29,43000,0\\n19,70000,0\\n28,89000,0\\n34,43000,0\\n30,79000,0\\n20,36000,0\\n26,80000,0\\n35,22000,0\\n35,39000,0\\n49,74000,0\\n39,134000,1\\n41,71000,0\\n58,101000,1\\n47,47000,0\\n55,130000,1\\n52,114000,0\\n40,142000,1\\n46,22000,0\\n48,96000,1\\n52,150000,1\\n59,42000,0\\n35,58000,0\\n47,43000,0\\n60,108000,1\\n49,65000,0\\n40,78000,0\\n46,96000,0\\n59,143000,1\\n41,80000,0\\n35,91000,1\\n37,144000,1\\n60,102000,1\\n35,60000,0\\n37,53000,0\\n36,126000,1\\n56,133000,1\\n40,72000,0\\n42,80000,1\\n35,147000,1\\n39,42000,0\\n40,107000,1\\n49,86000,1\\n38,112000,0\\n46,79000,1\\n40,57000,0\\n37,80000,0\\n46,82000,0\\n53,143000,1\\n42,149000,1\\n38,59000,0\\n50,88000,1\\n56,104000,1\\n41,72000,0\\n51,146000,1\\n35,50000,0\\n57,122000,1\\n41,52000,0\\n35,97000,1\\n44,39000,0\\n37,52000,0\\n48,134000,1\\n37,146000,1\\n50,44000,0\\n52,90000,1\\n41,72000,0\\n40,57000,0\\n58,95000,1\\n45,131000,1\\n35,77000,0\\n36,144000,1\\n55,125000,1\\n35,72000,0\\n48,90000,1\\n42,108000,1\\n40,75000,0\\n37,74000,0\\n47,144000,1\\n40,61000,0\\n43,133000,0\\n59,76000,1\\n60,42000,1\\n39,106000,1\\n57,26000,1\\n57,74000,1\\n38,71000,0\\n49,88000,1\\n52,38000,1\\n50,36000,1\\n59,88000,1\\n35,61000,0\\n37,70000,1\\n52,21000,1\\n48,141000,0\\n37,93000,1\\n37,62000,0\\n48,138000,1\\n41,79000,0\\n37,78000,1\\n39,134000,1\\n49,89000,1\\n55,39000,1\\n37,77000,0\\n35,57000,0\\n36,63000,0\\n42,73000,1\\n43,112000,1\\n45,79000,0\\n46,117000,1\\n58,38000,1\\n48,74000,1\\n37,137000,1\\n37,79000,1\\n40,60000,0\\n42,54000,0\\n51,134000,0\\n47,113000,1\\n36,125000,1\\n38,50000,0\\n42,70000,0\\n39,96000,1\\n38,50000,0\\n49,141000,1\\n39,79000,0\\n39,75000,1\\n54,104000,1\\n35,55000,0\\n45,32000,1\\n36,60000,0\\n52,138000,1\\n53,82000,1\\n41,52000,0\\n48,30000,1\\n48,131000,1\\n41,60000,0\\n41,72000,0\\n42,75000,0\\n36,118000,1\\n47,107000,1\\n38,51000,0\\n48,119000,1\\n42,65000,0\\n40,65000,0\\n57,60000,1\\n36,54000,0\\n58,144000,1\\n35,79000,0\\n38,55000,0\\n39,122000,1\\n53,104000,1\\n35,75000,0\\n38,65000,0\\n47,51000,1\\n47,105000,1\\n41,63000,0\\n53,72000,1\\n54,108000,1\\n39,77000,0\\n38,61000,0\\n38,113000,1\\n37,75000,0\\n42,90000,1\\n37,57000,0\\n36,99000,1\\n60,34000,1\\n54,70000,1\\n41,72000,0\\n40,71000,1\\n42,54000,0\\n43,129000,1\\n53,34000,1\\n47,50000,1\\n42,79000,0\\n42,104000,1\\n59,29000,1\\n58,47000,1\\n46,88000,1\\n38,71000,0\\n54,26000,1\\n60,46000,1\\n60,83000,1\\n39,73000,0\\n59,130000,1\\n37,80000,0\\n46,32000,1\\n46,74000,0\\n42,53000,0\\n41,87000,1\\n58,23000,1\\n42,64000,0\\n48,33000,1\\n44,139000,1\\n49,28000,1\\n57,33000,1\\n56,60000,1\\n49,39000,1\\n39,71000,0\\n47,34000,1\\n48,35000,1\\n48,33000,1\\n47,23000,1\\n45,45000,1\\n60,42000,1\\n39,59000,0\\n46,41000,1\\n51,23000,1\\n50,20000,1\\n36,33000,0\\n49,36000,1\\n'}"
            ]
          },
          "metadata": {},
          "execution_count": 12
        }
      ]
    },
    {
      "cell_type": "code",
      "source": [
        "# 2\n",
        "\n",
        "from sklearn.impute import SimpleImputer\n",
        "# Xử lý lỗi missing data\n",
        "df2 = pd.read_csv(\"Social_Network_Ads_2.csv\")\n",
        "imputer = SimpleImputer(missing_values=np.nan, strategy='mean')\n",
        "df2.iloc[:, 1:3] = imputer.fit_transform(df2.iloc[:, 1:3])\n",
        "df2.info()\n"
      ],
      "metadata": {
        "colab": {
          "base_uri": "https://localhost:8080/"
        },
        "id": "T66_lrv-A698",
        "outputId": "e6681df5-2a6f-440b-9fd4-ef110d2ddd24"
      },
      "execution_count": null,
      "outputs": [
        {
          "output_type": "stream",
          "name": "stdout",
          "text": [
            "<class 'pandas.core.frame.DataFrame'>\n",
            "RangeIndex: 400 entries, 0 to 399\n",
            "Data columns (total 3 columns):\n",
            " #   Column           Non-Null Count  Dtype  \n",
            "---  ------           --------------  -----  \n",
            " 0   Age              400 non-null    int64  \n",
            " 1   EstimatedSalary  400 non-null    float64\n",
            " 2   Purchased        400 non-null    float64\n",
            "dtypes: float64(2), int64(1)\n",
            "memory usage: 9.5 KB\n"
          ]
        }
      ]
    },
    {
      "cell_type": "code",
      "source": [
        "df2"
      ],
      "metadata": {
        "colab": {
          "base_uri": "https://localhost:8080/",
          "height": 424
        },
        "id": "PjOTgL2RBjT3",
        "outputId": "ebe310e5-a960-459c-c1b0-4db7caa8395d"
      },
      "execution_count": null,
      "outputs": [
        {
          "output_type": "execute_result",
          "data": {
            "text/html": [
              "<div>\n",
              "<style scoped>\n",
              "    .dataframe tbody tr th:only-of-type {\n",
              "        vertical-align: middle;\n",
              "    }\n",
              "\n",
              "    .dataframe tbody tr th {\n",
              "        vertical-align: top;\n",
              "    }\n",
              "\n",
              "    .dataframe thead th {\n",
              "        text-align: right;\n",
              "    }\n",
              "</style>\n",
              "<table border=\"1\" class=\"dataframe\">\n",
              "  <thead>\n",
              "    <tr style=\"text-align: right;\">\n",
              "      <th></th>\n",
              "      <th>Age</th>\n",
              "      <th>EstimatedSalary</th>\n",
              "      <th>Purchased</th>\n",
              "    </tr>\n",
              "  </thead>\n",
              "  <tbody>\n",
              "    <tr>\n",
              "      <th>0</th>\n",
              "      <td>19</td>\n",
              "      <td>19000.0</td>\n",
              "      <td>0.0</td>\n",
              "    </tr>\n",
              "    <tr>\n",
              "      <th>1</th>\n",
              "      <td>35</td>\n",
              "      <td>20000.0</td>\n",
              "      <td>0.0</td>\n",
              "    </tr>\n",
              "    <tr>\n",
              "      <th>2</th>\n",
              "      <td>26</td>\n",
              "      <td>43000.0</td>\n",
              "      <td>0.0</td>\n",
              "    </tr>\n",
              "    <tr>\n",
              "      <th>3</th>\n",
              "      <td>27</td>\n",
              "      <td>57000.0</td>\n",
              "      <td>0.0</td>\n",
              "    </tr>\n",
              "    <tr>\n",
              "      <th>4</th>\n",
              "      <td>19</td>\n",
              "      <td>76000.0</td>\n",
              "      <td>0.0</td>\n",
              "    </tr>\n",
              "    <tr>\n",
              "      <th>...</th>\n",
              "      <td>...</td>\n",
              "      <td>...</td>\n",
              "      <td>...</td>\n",
              "    </tr>\n",
              "    <tr>\n",
              "      <th>395</th>\n",
              "      <td>46</td>\n",
              "      <td>41000.0</td>\n",
              "      <td>1.0</td>\n",
              "    </tr>\n",
              "    <tr>\n",
              "      <th>396</th>\n",
              "      <td>51</td>\n",
              "      <td>23000.0</td>\n",
              "      <td>1.0</td>\n",
              "    </tr>\n",
              "    <tr>\n",
              "      <th>397</th>\n",
              "      <td>50</td>\n",
              "      <td>20000.0</td>\n",
              "      <td>1.0</td>\n",
              "    </tr>\n",
              "    <tr>\n",
              "      <th>398</th>\n",
              "      <td>36</td>\n",
              "      <td>33000.0</td>\n",
              "      <td>0.0</td>\n",
              "    </tr>\n",
              "    <tr>\n",
              "      <th>399</th>\n",
              "      <td>49</td>\n",
              "      <td>36000.0</td>\n",
              "      <td>1.0</td>\n",
              "    </tr>\n",
              "  </tbody>\n",
              "</table>\n",
              "<p>400 rows × 3 columns</p>\n",
              "</div>"
            ],
            "text/plain": [
              "     Age  EstimatedSalary  Purchased\n",
              "0     19          19000.0        0.0\n",
              "1     35          20000.0        0.0\n",
              "2     26          43000.0        0.0\n",
              "3     27          57000.0        0.0\n",
              "4     19          76000.0        0.0\n",
              "..   ...              ...        ...\n",
              "395   46          41000.0        1.0\n",
              "396   51          23000.0        1.0\n",
              "397   50          20000.0        1.0\n",
              "398   36          33000.0        0.0\n",
              "399   49          36000.0        1.0\n",
              "\n",
              "[400 rows x 3 columns]"
            ]
          },
          "metadata": {},
          "execution_count": 14
        }
      ]
    },
    {
      "cell_type": "code",
      "source": [
        "df2tp = df2.copy()\n",
        "# Sửa 0 trong cột Purchased thành 'Chưa mua' và 1 thành 'Đã mua'.\n",
        "df2tp.loc[(df2tp.Purchased == 0), ['Purchased']]='Chưa mua'\n",
        "df2tp.loc[(df2tp.Purchased == 1), ['Purchased']]='Đã mua'\n",
        "# Đổi tên cột 'Purchased' thành 'Status'\n",
        "df2tp = df2tp.rename({ 'Purchased': 'Status'}, axis='columns')\n",
        "df2tp"
      ],
      "metadata": {
        "colab": {
          "base_uri": "https://localhost:8080/",
          "height": 424
        },
        "id": "Bk2GmQ3yBzZI",
        "outputId": "d426a218-b1ca-4cae-e49d-5bbecd9bfc39"
      },
      "execution_count": null,
      "outputs": [
        {
          "output_type": "execute_result",
          "data": {
            "text/html": [
              "<div>\n",
              "<style scoped>\n",
              "    .dataframe tbody tr th:only-of-type {\n",
              "        vertical-align: middle;\n",
              "    }\n",
              "\n",
              "    .dataframe tbody tr th {\n",
              "        vertical-align: top;\n",
              "    }\n",
              "\n",
              "    .dataframe thead th {\n",
              "        text-align: right;\n",
              "    }\n",
              "</style>\n",
              "<table border=\"1\" class=\"dataframe\">\n",
              "  <thead>\n",
              "    <tr style=\"text-align: right;\">\n",
              "      <th></th>\n",
              "      <th>Age</th>\n",
              "      <th>EstimatedSalary</th>\n",
              "      <th>Status</th>\n",
              "    </tr>\n",
              "  </thead>\n",
              "  <tbody>\n",
              "    <tr>\n",
              "      <th>0</th>\n",
              "      <td>19</td>\n",
              "      <td>19000.0</td>\n",
              "      <td>Chưa mua</td>\n",
              "    </tr>\n",
              "    <tr>\n",
              "      <th>1</th>\n",
              "      <td>35</td>\n",
              "      <td>20000.0</td>\n",
              "      <td>Chưa mua</td>\n",
              "    </tr>\n",
              "    <tr>\n",
              "      <th>2</th>\n",
              "      <td>26</td>\n",
              "      <td>43000.0</td>\n",
              "      <td>Chưa mua</td>\n",
              "    </tr>\n",
              "    <tr>\n",
              "      <th>3</th>\n",
              "      <td>27</td>\n",
              "      <td>57000.0</td>\n",
              "      <td>Chưa mua</td>\n",
              "    </tr>\n",
              "    <tr>\n",
              "      <th>4</th>\n",
              "      <td>19</td>\n",
              "      <td>76000.0</td>\n",
              "      <td>Chưa mua</td>\n",
              "    </tr>\n",
              "    <tr>\n",
              "      <th>...</th>\n",
              "      <td>...</td>\n",
              "      <td>...</td>\n",
              "      <td>...</td>\n",
              "    </tr>\n",
              "    <tr>\n",
              "      <th>395</th>\n",
              "      <td>46</td>\n",
              "      <td>41000.0</td>\n",
              "      <td>Đã mua</td>\n",
              "    </tr>\n",
              "    <tr>\n",
              "      <th>396</th>\n",
              "      <td>51</td>\n",
              "      <td>23000.0</td>\n",
              "      <td>Đã mua</td>\n",
              "    </tr>\n",
              "    <tr>\n",
              "      <th>397</th>\n",
              "      <td>50</td>\n",
              "      <td>20000.0</td>\n",
              "      <td>Đã mua</td>\n",
              "    </tr>\n",
              "    <tr>\n",
              "      <th>398</th>\n",
              "      <td>36</td>\n",
              "      <td>33000.0</td>\n",
              "      <td>Chưa mua</td>\n",
              "    </tr>\n",
              "    <tr>\n",
              "      <th>399</th>\n",
              "      <td>49</td>\n",
              "      <td>36000.0</td>\n",
              "      <td>Đã mua</td>\n",
              "    </tr>\n",
              "  </tbody>\n",
              "</table>\n",
              "<p>400 rows × 3 columns</p>\n",
              "</div>"
            ],
            "text/plain": [
              "     Age  EstimatedSalary    Status\n",
              "0     19          19000.0  Chưa mua\n",
              "1     35          20000.0  Chưa mua\n",
              "2     26          43000.0  Chưa mua\n",
              "3     27          57000.0  Chưa mua\n",
              "4     19          76000.0  Chưa mua\n",
              "..   ...              ...       ...\n",
              "395   46          41000.0    Đã mua\n",
              "396   51          23000.0    Đã mua\n",
              "397   50          20000.0    Đã mua\n",
              "398   36          33000.0  Chưa mua\n",
              "399   49          36000.0    Đã mua\n",
              "\n",
              "[400 rows x 3 columns]"
            ]
          },
          "metadata": {},
          "execution_count": 15
        }
      ]
    },
    {
      "cell_type": "code",
      "source": [
        ""
      ],
      "metadata": {
        "id": "v5c3GHFrGpkn"
      },
      "execution_count": null,
      "outputs": []
    },
    {
      "cell_type": "code",
      "source": [
        "# Biểu đồ cột\n",
        "ages = df2tp['Age']\n",
        "salaries = df2tp['EstimatedSalary']\n",
        "colorBar = ['green' if i == 'Đã mua' else 'red' for i in df2tp['Status']]\n",
        "plt.xlabel('Age')\n",
        "plt.ylabel('Estimated Salary')\n",
        "plt.title('Biểu đồ cột so sánh đã mua và chưa mua theo tuổi và lương ước tính')\n",
        "\n",
        "for i in range(len(ages)):\n",
        "  plt.bar(ages[i], salaries[i], color=colorBar[i])"
      ],
      "metadata": {
        "colab": {
          "base_uri": "https://localhost:8080/",
          "height": 296
        },
        "id": "DJTIt0ur6SlR",
        "outputId": "15e4db12-a331-4b42-bfb0-8dd2bb5eb188"
      },
      "execution_count": null,
      "outputs": [
        {
          "output_type": "display_data",
          "data": {
            "image/png": "[encoded data removed]",
            "text/plain": [
              "<Figure size 432x288 with 1 Axes>"
            ]
          },
          "metadata": {
            "needs_background": "light"
          }
        }
      ]
    },
    {
      "cell_type": "code",
      "source": [
        "#Biểu đồ phân tán\n",
        "colorScatter = ['violet' if i == 'Đã mua' else 'red' for i in df2tp['Status']]\n",
        "plt.xlabel('Age')\n",
        "plt.ylabel('Estimated Salary')\n",
        "plt.title('Biểu đồ phân tán so sánh đã mua và chưa mua theo tuổi và lương ước tính')\n",
        "\n",
        "for i in range(len(ages)):\n",
        "  plt.scatter(ages[i], salaries[i], color=colorScatter[i])"
      ],
      "metadata": {
        "colab": {
          "base_uri": "https://localhost:8080/",
          "height": 296
        },
        "id": "DAspNjbw8M6L",
        "outputId": "7cc67e1b-e698-476d-cb4b-7d13844ede1f"
      },
      "execution_count": null,
      "outputs": [
        {
          "output_type": "display_data",
          "data": {
            "image/png": "[encoded data removed]",
            "text/plain": [
              "<Figure size 432x288 with 1 Axes>"
            ]
          },
          "metadata": {
            "needs_background": "light"
          }
        }
      ]
    }
  ]
}